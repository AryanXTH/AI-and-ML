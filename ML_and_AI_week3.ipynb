{
  "cells": [
    {
      "cell_type": "markdown",
      "metadata": {
        "id": "view-in-github",
        "colab_type": "text"
      },
      "source": [
        "<a href=\"https://colab.research.google.com/github/AryanXTH/AI-and-ML/blob/main/ML_and_AI_week3.ipynb\" target=\"_parent\"><img src=\"https://colab.research.google.com/assets/colab-badge.svg\" alt=\"Open In Colab\"/></a>"
      ]
    },
    {
      "cell_type": "code",
      "execution_count": 2,
      "metadata": {
        "id": "ZJ5xHyay0b8M"
      },
      "outputs": [],
      "source": [
        "import numpy as np\n",
        "\n",
        "def MCP_Neurons_AND(X1, X2, T=2):\n",
        "    \"\"\"\n",
        "    Implements the AND operation using an MCP neuron.\n",
        "\n",
        "    Args:\n",
        "    X1 (list or array): Binary input values.\n",
        "    X2 (list or array): Binary input values.\n",
        "    T (int): Threshold value (default is 2).\n",
        "\n",
        "    Returns:\n",
        "    list: Neuron state (1 or 0) for each input pair.\n",
        "    \"\"\"\n",
        "    assert len(X1) == len(X2), \"Input arrays must have the same length\"\n",
        "\n",
        "    # Perform an element wise addition of two input arrays stored in a new array(list):\n",
        "    new_array = np.array(X1) + np.array(X2)\n",
        "\n",
        "    # Create a new array to put all the prediction let’s name that a state_neuron.\n",
        "    # Append 1 in state_neuron if sum (element) of above list is above Threshold else append 0.\n",
        "    state_neuron = (new_array >= T).astype(int)\n",
        "\n",
        "    return state_neuron"
      ]
    },
    {
      "cell_type": "code",
      "execution_count": 3,
      "metadata": {
        "colab": {
          "base_uri": "https://localhost:8080/"
        },
        "id": "jFJEYZl00b8P",
        "outputId": "bdeed35d-ca54-4d50-864e-a231d25ac80d"
      },
      "outputs": [
        {
          "output_type": "stream",
          "name": "stdout",
          "text": [
            "Output of AND gate for inputs [0, 0, 1, 1] and [0, 1, 0, 1] with threshold 2: [0 0 0 1]\n"
          ]
        }
      ],
      "source": [
        "# Example usage for MCP_Neurons_AND function\n",
        "X1 = [0, 0, 1, 1]\n",
        "X2 = [0, 1, 0, 1]\n",
        "T = 2 # Threshold value\n",
        "# Call the MCP_Neurons_AND function\n",
        "result = MCP_Neurons_AND(X1, X2, T)\n",
        "# Print the result\n",
        "print(f\"Output of AND gate for inputs {X1} and {X2} with threshold {T}: {result}\")"
      ]
    },
    {
      "cell_type": "code",
      "execution_count": 4,
      "metadata": {
        "id": "XhBYS8s40b8R"
      },
      "outputs": [],
      "source": [
        "def MCP_Neurons_OR(X1, X2, T):\n",
        "    \"\"\"\n",
        "    This functions implements basic AND operations with MCP Neuron for two inputs.\n",
        "    Arguments:\n",
        "    Inputs:\n",
        "    X1 (1 nd array): An array of binary values.\n",
        "    X2 (1 nd array): An array of binary values.\n",
        "    Output:\n",
        "    state_neuron(1D-list): An state of neuron 1 0r 0 for the particular inputs.\n",
        "    \"\"\"\n",
        "    assert len(X1) == len(X2)\n",
        "    # Perform an element wise addition of two input arrays stored in a new array(list):\n",
        "    new_array = np.array(X1) + np.array(X2)\n",
        "    # Create a new array to put all the prediction let’s name that a state_neuron.\n",
        "    # Append 1 in sate_neuron if sum (element) of above list is above Threshold else append 0.\n",
        "    state_neuron = (new_array >= T).astype(int)\n",
        "    return state_neuron"
      ]
    },
    {
      "cell_type": "code",
      "execution_count": 5,
      "metadata": {
        "colab": {
          "base_uri": "https://localhost:8080/"
        },
        "id": "GohKZBlc0b8S",
        "outputId": "8b97b6f7-c00a-472c-d24e-5d0f758a17e3"
      },
      "outputs": [
        {
          "output_type": "stream",
          "name": "stdout",
          "text": [
            "Output of OR gate for inputs [0, 0, 1, 1] and [0, 1, 0, 1] with threshold 1: [0 1 1 1]\n"
          ]
        }
      ],
      "source": [
        "# Example usage for MCP_Neurons_OR function\n",
        "X1 = [0, 0, 1, 1]\n",
        "X2 = [0, 1, 0, 1]\n",
        "T = 1 # Threshold value for OR gate\n",
        "# Call the MCP_Neurons_OR function\n",
        "result_or = MCP_Neurons_OR(X1, X2, T)\n",
        "# Print the result\n",
        "print(f\"Output of OR gate for inputs {X1} and {X2} with threshold {T}: {result_or}\")"
      ]
    },
    {
      "cell_type": "markdown",
      "metadata": {
        "id": "_T9eywuz0b8S"
      },
      "source": [
        "## QNO1. List out all the limitations of MCP - Neurons\n",
        "- It cannot work on functions such as XOR, which are non linear in nature\n",
        "- It doesn't have learning mechanism and gives output only in binary 0 and 1\n",
        "- The Threshold and Weights are to be set manually rather than dynamically adjusting the weights\n",
        "\n",
        "## QNO2. Think if you can develop a logic to solve for XOR function using MCP Neuron.\n",
        "-> As We know that XOR is a non linear function which can be divided into 3 parts i.e. AND -> OR -> NOT = XOR we can divide and do the same process thrice to get the actual XOR value."
      ]
    },
    {
      "cell_type": "code",
      "execution_count": 6,
      "metadata": {
        "id": "PFW-006u0b8U"
      },
      "outputs": [],
      "source": [
        "def MCP_Neuron(X, Y, W1, W2, T):\n",
        "    total = (X * W1)+(Y * W2)\n",
        "    if total >= T:\n",
        "        return 1 # Neuron fires\n",
        "    else:\n",
        "        return 0  # Neuron doesn't fire\n",
        "\n",
        "# XOR using MCP Neurons\n",
        "def MCP_Neurons_XOR(x1, x2):\n",
        "\n",
        "    AND_result = MCP_Neuron(x1, x2, 1, 1, 2)  # AND neuron\n",
        "    OR_result = MCP_Neuron(x1, x2, 1, 1, 1)   # OR neuron\n",
        "\n",
        "    NOT_AND_result = 1 if AND_result == 0 else 0  # Simple NOT operation\n",
        "\n",
        "    XOR_result = MCP_Neuron(OR_result, NOT_AND_result, 1, 1, 2)\n",
        "\n",
        "    return XOR_result"
      ]
    },
    {
      "cell_type": "code",
      "execution_count": 7,
      "metadata": {
        "colab": {
          "base_uri": "https://localhost:8080/"
        },
        "id": "W-ZfNO9_0b8U",
        "outputId": "a5a4f3bb-6492-43b9-a8ab-9089851f0c8c"
      },
      "outputs": [
        {
          "output_type": "stream",
          "name": "stdout",
          "text": [
            "XOR(0, 0) = 0\n",
            "XOR(0, 1) = 1\n",
            "XOR(1, 0) = 1\n",
            "XOR(1, 1) = 0\n"
          ]
        }
      ],
      "source": [
        "for x1 in [0, 1]:\n",
        "    for x2 in [0, 1]:\n",
        "        print(f\"XOR({x1}, {x2}) = {MCP_Neurons_XOR(x1, x2)}\")"
      ]
    },
    {
      "cell_type": "markdown",
      "metadata": {
        "id": "kHJEgN4d0b8V"
      },
      "source": [
        "# Task 2"
      ]
    },
    {
      "cell_type": "code",
      "execution_count": null,
      "metadata": {
        "id": "KqGgI-u_0b8V",
        "outputId": "4b685f47-a4b6-468f-b822-5bc37a46d310"
      },
      "outputs": [
        {
          "name": "stdout",
          "output_type": "stream",
          "text": [
            "Feature matrix shape: (12665, 784)\n",
            "Label vector shape: (12665,)\n"
          ]
        }
      ],
      "source": [
        "import pandas as pd\n",
        "import numpy as np\n",
        "import matplotlib.pyplot as plt\n",
        "# Load the dataset\n",
        "df_0_1 = pd.read_csv(\"mnist_0_and_1.csv\") # Add the correct file path if necessary\n",
        "# Extract features and labels\n",
        "X = df_0_1.drop(columns=[\"label\"]).values # 784 pixels\n",
        "y = df_0_1[\"label\"].values # Labels (0 or 1)\n",
        "# Check the shape of the features and labels\n",
        "print(\"Feature matrix shape:\", X.shape)\n",
        "print(\"Label vector shape:\", y.shape)"
      ]
    },
    {
      "cell_type": "markdown",
      "metadata": {
        "id": "g3GJfE7Y0b8W"
      },
      "source": [
        "## Qno 1: What does the shape of X represent?\n",
        "-> The shape of X (a,b) represents the number of data points (a) and its features (b) in each data points\n",
        "\n",
        "## Qno 2: What does the shape of Y represent?\n",
        "-> The shape of Y represents the actual number of labels present in the dataset\n"
      ]
    },
    {
      "cell_type": "code",
      "execution_count": null,
      "metadata": {
        "id": "fHBOQFjV0b8W",
        "outputId": "4af532b9-7c6a-45cc-c448-8fca7cd252a4"
      },
      "outputs": [
        {
          "data": {
            "image/png": "[encoded data removed]",
            "text/plain": [
              "<Figure size 1000x500 with 10 Axes>"
            ]
          },
          "metadata": {},
          "output_type": "display_data"
        }
      ],
      "source": [
        "# Separate images for label 0 and label 1\n",
        "images_0 = X[y == 0] # Get all images with label 0\n",
        "images_1 = X[y == 1] # Get all images with label 1\n",
        "fig, axes = plt.subplots(2, 5, figsize=(10, 5))\n",
        "# Check if the arrays have the required amount of data\n",
        "if len(images_0) < 5 or len(images_1) < 5:\n",
        "    print(\"Error: Not enough images in images_0 or images_1 to plot 5 images.\")\n",
        "else:\n",
        "    for i in range(5):\n",
        "        # Plot digit 0\n",
        "        axes[0, i].imshow(images_0[i].reshape(28, 28), cmap=\"gray\")\n",
        "        axes[0, i].set_title(\"Label: 0\")\n",
        "        axes[0, i].axis(\"off\")\n",
        "        # Plot digit 1\n",
        "        axes[1, i].imshow(images_1[i].reshape(28, 28), cmap=\"gray\")\n",
        "        axes[1, i].set_title(\"Label: 1\")\n",
        "        axes[1, i].axis(\"off\")\n",
        "    plt.suptitle(\"First 5 Images of 0 and 1 from MNIST Subset\")\n",
        "    plt.show()"
      ]
    },
    {
      "cell_type": "markdown",
      "metadata": {
        "id": "q_4L-37V0b8W"
      },
      "source": [
        "Initialize weights and Bias"
      ]
    },
    {
      "cell_type": "code",
      "execution_count": null,
      "metadata": {
        "id": "4sA313hk0b8W"
      },
      "outputs": [],
      "source": [
        "# Initialize weights and bias\n",
        "weights = np.zeros(X.shape[1]) # 784 weights (one for each pixel)\n",
        "bias = 0\n",
        "learning_rate = 0.1\n",
        "epochs = 100"
      ]
    },
    {
      "cell_type": "markdown",
      "metadata": {
        "id": "2nTdzmR-0b8X"
      },
      "source": [
        "## Question - 3: What does the weights array represent in this context?\n",
        "-> It represents the parameters which will be used to predict in the model where it determines which feature to be priortized while calculating an output.\n",
        "\n",
        "## Question - 4: Why are we initializing the weights to zero? What effect could this have on the training process?\n",
        "-> I think we might be initializing the weights to zero to test out how the model performs and then slightly change it's values in next iteration so that we can plot the difference and optimize our weights as per need."
      ]
    },
    {
      "cell_type": "code",
      "execution_count": null,
      "metadata": {
        "id": "ouqyvN_u0b8X"
      },
      "outputs": [],
      "source": [
        "import numpy as np\n",
        "\n",
        "def decision_function(X, weights, bias):\n",
        "    \"\"\"\n",
        "    Compute the predicted labels for the input data.\n",
        "    Parameters:\n",
        "    - X: Features (input data) as a numpy array of shape (n_samples, n_features)\n",
        "    - weights: Updated weights after training\n",
        "    - bias: Updated bias after training\n",
        "    Returns:\n",
        "    - y_pred_all: The predicted labels for the input data\n",
        "    \"\"\"\n",
        "    # Compute the predictions (weighted sum of inputs plus bias)\n",
        "    predictions = np.dot(X, weights) + bias\n",
        "\n",
        "    # Activation function (step function)\n",
        "    # The step function is used to predict the output: 1 if prediction > 0, else 0\n",
        "    y_pred_all = np.where(predictions > 0, 1, 0)\n",
        "\n",
        "    return y_pred_all\n"
      ]
    },
    {
      "cell_type": "code",
      "execution_count": null,
      "metadata": {
        "id": "6F7R-KG-0b8X"
      },
      "outputs": [],
      "source": [
        "import numpy as np\n",
        "\n",
        "def train_perceptron(X, y, weights, bias, learning_rate=0.1, epochs=100):\n",
        "    \"\"\"\n",
        "    Train the perceptron using the Perceptron Learning Algorithm.\n",
        "    Parameters:\n",
        "    - X: Features (input data) as a numpy array of shape (n_samples, n_features)\n",
        "    - y: Labels (true output) as a numpy array of shape (n_samples,)\n",
        "    - weights: Initial weights as a numpy array of shape (n_features,)\n",
        "    - bias: Initial bias value (scalar)\n",
        "    - learning_rate: Learning rate for weight updates (default is 0.1)\n",
        "    - epochs: Number of iterations to train the model (default is 100)\n",
        "    Returns:\n",
        "    - weights: Updated weights after training\n",
        "    - bias: Updated bias after training\n",
        "    - accuracy: Total correct prediction.\n",
        "    \"\"\"\n",
        "    # Step 3: Perceptron Learning Algorithm\n",
        "    for epoch in range(epochs):\n",
        "        total_correct = 0\n",
        "\n",
        "        for i in range(len(X)):\n",
        "            # Calculate the prediction using the decision function (dot product + bias)\n",
        "            prediction = np.dot(X[i], weights) + bias\n",
        "            # Apply step function (activation)\n",
        "            predicted_label = 1 if prediction > 0 else 0\n",
        "\n",
        "            # Update weights and bias if there is a misclassification\n",
        "            if predicted_label != y[i]:\n",
        "                error = y[i] - predicted_label\n",
        "                weights += learning_rate * error * X[i]  # Update weights\n",
        "                bias += learning_rate * error  # Update bias\n",
        "\n",
        "            # Count correct predictions\n",
        "            if predicted_label == y[i]:\n",
        "                total_correct += 1\n",
        "\n",
        "        # Calculate accuracy for this epoch\n",
        "        accuracy = total_correct / len(X)\n",
        "        print(f\"Epoch {epoch+1}/{epochs} - Accuracy: {accuracy*100:.2f}%\")\n",
        "\n",
        "    return weights, bias, accuracy\n"
      ]
    },
    {
      "cell_type": "markdown",
      "metadata": {
        "id": "tbtsOfA50b8Y"
      },
      "source": [
        "## Question - 5: What is the purpose of the output = np.dot(X[i], weights) + bias line?\n"
      ]
    },
    {
      "cell_type": "code",
      "execution_count": null,
      "metadata": {
        "id": "bEWgduaX0b8Y",
        "outputId": "ed842481-96c1-4014-d350-7559ad192358"
      },
      "outputs": [
        {
          "name": "stdout",
          "output_type": "stream",
          "text": [
            "Epoch 1/100 - Accuracy: 99.63%\n",
            "Epoch 2/100 - Accuracy: 99.84%\n",
            "Epoch 3/100 - Accuracy: 99.85%\n",
            "Epoch 4/100 - Accuracy: 99.88%\n",
            "Epoch 5/100 - Accuracy: 99.86%\n",
            "Epoch 6/100 - Accuracy: 99.89%\n",
            "Epoch 7/100 - Accuracy: 99.91%\n",
            "Epoch 8/100 - Accuracy: 99.96%\n",
            "Epoch 9/100 - Accuracy: 99.96%\n",
            "Epoch 10/100 - Accuracy: 99.91%\n",
            "Epoch 11/100 - Accuracy: 100.00%\n",
            "Epoch 12/100 - Accuracy: 100.00%\n",
            "Epoch 13/100 - Accuracy: 100.00%\n",
            "Epoch 14/100 - Accuracy: 100.00%\n",
            "Epoch 15/100 - Accuracy: 100.00%\n",
            "Epoch 16/100 - Accuracy: 100.00%\n",
            "Epoch 17/100 - Accuracy: 100.00%\n",
            "Epoch 18/100 - Accuracy: 100.00%\n",
            "Epoch 19/100 - Accuracy: 100.00%\n",
            "Epoch 20/100 - Accuracy: 100.00%\n",
            "Epoch 21/100 - Accuracy: 100.00%\n",
            "Epoch 22/100 - Accuracy: 100.00%\n",
            "Epoch 23/100 - Accuracy: 100.00%\n",
            "Epoch 24/100 - Accuracy: 100.00%\n",
            "Epoch 25/100 - Accuracy: 100.00%\n",
            "Epoch 26/100 - Accuracy: 100.00%\n",
            "Epoch 27/100 - Accuracy: 100.00%\n",
            "Epoch 28/100 - Accuracy: 100.00%\n",
            "Epoch 29/100 - Accuracy: 100.00%\n",
            "Epoch 30/100 - Accuracy: 100.00%\n",
            "Epoch 31/100 - Accuracy: 100.00%\n",
            "Epoch 32/100 - Accuracy: 100.00%\n",
            "Epoch 33/100 - Accuracy: 100.00%\n",
            "Epoch 34/100 - Accuracy: 100.00%\n",
            "Epoch 35/100 - Accuracy: 100.00%\n",
            "Epoch 36/100 - Accuracy: 100.00%\n",
            "Epoch 37/100 - Accuracy: 100.00%\n",
            "Epoch 38/100 - Accuracy: 100.00%\n",
            "Epoch 39/100 - Accuracy: 100.00%\n",
            "Epoch 40/100 - Accuracy: 100.00%\n",
            "Epoch 41/100 - Accuracy: 100.00%\n",
            "Epoch 42/100 - Accuracy: 100.00%\n",
            "Epoch 43/100 - Accuracy: 100.00%\n",
            "Epoch 44/100 - Accuracy: 100.00%\n",
            "Epoch 45/100 - Accuracy: 100.00%\n",
            "Epoch 46/100 - Accuracy: 100.00%\n",
            "Epoch 47/100 - Accuracy: 100.00%\n",
            "Epoch 48/100 - Accuracy: 100.00%\n",
            "Epoch 49/100 - Accuracy: 100.00%\n",
            "Epoch 50/100 - Accuracy: 100.00%\n",
            "Epoch 51/100 - Accuracy: 100.00%\n",
            "Epoch 52/100 - Accuracy: 100.00%\n",
            "Epoch 53/100 - Accuracy: 100.00%\n",
            "Epoch 54/100 - Accuracy: 100.00%\n",
            "Epoch 55/100 - Accuracy: 100.00%\n",
            "Epoch 56/100 - Accuracy: 100.00%\n",
            "Epoch 57/100 - Accuracy: 100.00%\n",
            "Epoch 58/100 - Accuracy: 100.00%\n",
            "Epoch 59/100 - Accuracy: 100.00%\n",
            "Epoch 60/100 - Accuracy: 100.00%\n",
            "Epoch 61/100 - Accuracy: 100.00%\n",
            "Epoch 62/100 - Accuracy: 100.00%\n",
            "Epoch 63/100 - Accuracy: 100.00%\n",
            "Epoch 64/100 - Accuracy: 100.00%\n",
            "Epoch 65/100 - Accuracy: 100.00%\n",
            "Epoch 66/100 - Accuracy: 100.00%\n",
            "Epoch 67/100 - Accuracy: 100.00%\n",
            "Epoch 68/100 - Accuracy: 100.00%\n",
            "Epoch 69/100 - Accuracy: 100.00%\n",
            "Epoch 70/100 - Accuracy: 100.00%\n",
            "Epoch 71/100 - Accuracy: 100.00%\n",
            "Epoch 72/100 - Accuracy: 100.00%\n",
            "Epoch 73/100 - Accuracy: 100.00%\n",
            "Epoch 74/100 - Accuracy: 100.00%\n",
            "Epoch 75/100 - Accuracy: 100.00%\n",
            "Epoch 76/100 - Accuracy: 100.00%\n",
            "Epoch 77/100 - Accuracy: 100.00%\n",
            "Epoch 78/100 - Accuracy: 100.00%\n",
            "Epoch 79/100 - Accuracy: 100.00%\n",
            "Epoch 80/100 - Accuracy: 100.00%\n",
            "Epoch 81/100 - Accuracy: 100.00%\n",
            "Epoch 82/100 - Accuracy: 100.00%\n",
            "Epoch 83/100 - Accuracy: 100.00%\n",
            "Epoch 84/100 - Accuracy: 100.00%\n",
            "Epoch 85/100 - Accuracy: 100.00%\n",
            "Epoch 86/100 - Accuracy: 100.00%\n",
            "Epoch 87/100 - Accuracy: 100.00%\n",
            "Epoch 88/100 - Accuracy: 100.00%\n",
            "Epoch 89/100 - Accuracy: 100.00%\n",
            "Epoch 90/100 - Accuracy: 100.00%\n",
            "Epoch 91/100 - Accuracy: 100.00%\n",
            "Epoch 92/100 - Accuracy: 100.00%\n",
            "Epoch 93/100 - Accuracy: 100.00%\n",
            "Epoch 94/100 - Accuracy: 100.00%\n",
            "Epoch 95/100 - Accuracy: 100.00%\n",
            "Epoch 96/100 - Accuracy: 100.00%\n",
            "Epoch 97/100 - Accuracy: 100.00%\n",
            "Epoch 98/100 - Accuracy: 100.00%\n",
            "Epoch 99/100 - Accuracy: 100.00%\n",
            "Epoch 100/100 - Accuracy: 100.00%\n",
            "The Final Accuracy is:  1.0\n"
          ]
        }
      ],
      "source": [
        "# After training the model with the perceptron_learning_algorithm\n",
        "weights, bias, accuracy = train_perceptron(X, y, weights, bias)\n",
        "# Evaluate the model using the new function\n",
        "print(\"The Final Accuracy is: \", accuracy)"
      ]
    },
    {
      "cell_type": "code",
      "execution_count": null,
      "metadata": {
        "id": "SvU4nD4C0b8Z",
        "outputId": "751698f6-e52c-47a2-e0fe-58a16f40af30"
      },
      "outputs": [
        {
          "name": "stdout",
          "output_type": "stream",
          "text": [
            "Final Accuracy: 1.0000\n",
            "All images were correctly classified!\n"
          ]
        }
      ],
      "source": [
        "# Get predictions for all data points\n",
        "predictions = np.dot(X, weights) + bias\n",
        "y_pred = np.where(predictions >= 0, 1, 0)\n",
        "# Calculate final accuracy\n",
        "final_accuracy = np.mean(y_pred == y)\n",
        "print(f\"Final Accuracy: {final_accuracy:.4f}\")\n",
        "# Step 5: Visualize Misclassified Images\n",
        "misclassified_idx = np.where(y_pred != y)[0]\n",
        "if len(misclassified_idx) > 0:\n",
        "    fig, axes = plt.subplots(2, 5, figsize=(10, 5))\n",
        "    for ax, idx in zip(axes.flat, misclassified_idx[:10]): # Show 10 misclassified images\n",
        "        ax.imshow(X[idx].reshape(28, 28), cmap=\"gray\")\n",
        "        ax.set_title(f\"Pred: {y_pred[idx]}, True: {y[idx]}\")\n",
        "        ax.axis(\"off\")\n",
        "    plt.suptitle(\"Misclassified Images\")\n",
        "    plt.show()\n",
        "else:\n",
        "    print(\"All images were correctly classified!\")"
      ]
    },
    {
      "cell_type": "markdown",
      "metadata": {
        "id": "CDb_W2kq0b8Z"
      },
      "source": [
        "## Question - 8:What does misclassified idx store, and how is it used in this code?\n",
        "\n",
        "\n",
        "## Question - 9: How do you interpret the result if the output is ”All images were correctly classified!”?"
      ]
    },
    {
      "cell_type": "markdown",
      "metadata": {
        "id": "vf8D8Mk_0b8Z"
      },
      "source": [
        "# Task 3"
      ]
    },
    {
      "cell_type": "code",
      "execution_count": null,
      "metadata": {
        "id": "wo4_AflY0b8a",
        "outputId": "e8b83540-83b5-47b7-aa92-da604c1b6d80"
      },
      "outputs": [
        {
          "name": "stdout",
          "output_type": "stream",
          "text": [
            "Feature matrix shape: (2741, 784)\n",
            "Label vector shape: (2741,)\n"
          ]
        }
      ],
      "source": [
        "import numpy as np\n",
        "import pandas as pd\n",
        "import matplotlib.pyplot as plt\n",
        "\n",
        "# Step 1: Load the dataset\n",
        "df_3_5 = pd.read_csv(\"mnist_3_and_5.csv\")  # Replace with correct path\n",
        "X = df_3_5.drop(columns=[\"label\"]).values  # Features: 784 pixels\n",
        "y = df_3_5[\"label\"].values  # Labels: 3 or 5\n",
        "# Check the shape of the features and labels\n",
        "print(\"Feature matrix shape:\", X.shape)\n",
        "print(\"Label vector shape:\", y.shape)"
      ]
    },
    {
      "cell_type": "code",
      "execution_count": null,
      "metadata": {
        "id": "5DoMq1Md0b8a"
      },
      "outputs": [],
      "source": [
        "# Convert labels 3 and 5 to binary labels (0 for 3, 1 for 5)\n",
        "y = np.where(y == 3, 0, 1)\n",
        "\n",
        "# Normalize the features to the range [0, 1]\n",
        "X = X / 255.0\n"
      ]
    },
    {
      "cell_type": "code",
      "execution_count": null,
      "metadata": {
        "id": "7B4f5QCj0b8a"
      },
      "outputs": [],
      "source": [
        "# Step 2: Visualize a few examples of 3s and 5s\n",
        "def visualize_samples(X, y, num_samples=5):\n",
        "    fig, axes = plt.subplots(1, num_samples, figsize=(15, 5))\n",
        "    for i in range(num_samples):\n",
        "        axes[i].imshow(X[i].reshape(28, 28), cmap=\"gray\")\n",
        "        axes[i].set_title(f\"Label: {y[i]}\")\n",
        "        axes[i].axis(\"off\")\n",
        "    plt.show()"
      ]
    },
    {
      "cell_type": "code",
      "execution_count": null,
      "metadata": {
        "id": "csxCsOpE0b8a",
        "outputId": "03eb4cec-e2af-4377-aebe-ceba6ebd88ae"
      },
      "outputs": [
        {
          "data": {
            "image/png": "[encoded data removed]",
            "text/plain": [
              "<Figure size 1500x500 with 10 Axes>"
            ]
          },
          "metadata": {},
          "output_type": "display_data"
        }
      ],
      "source": [
        "visualize_samples(X, y, num_samples=10)"
      ]
    },
    {
      "cell_type": "code",
      "execution_count": null,
      "metadata": {
        "id": "lTsMVrkq0b8b"
      },
      "outputs": [],
      "source": [
        "# Step 3: Perceptron Algorithm\n",
        "def perceptron(X, y, learning_rate=0.1, epochs=100):\n",
        "    weights = np.zeros(X.shape[1])  # Initialize weights to zero (784 features)\n",
        "    bias = 0  # Initialize bias to zero\n",
        "    accuracy_history = []  # To store accuracy during training\n",
        "\n",
        "    for epoch in range(epochs):\n",
        "        for i in range(X.shape[0]):\n",
        "            # Perceptron decision rule\n",
        "            output = np.dot(X[i], weights) + bias  # Weighted sum of inputs + bias\n",
        "            prediction = 1 if output >= 0 else 0  # Activation function (step function)\n",
        "\n",
        "            # Compute the error (True label - Predicted label)\n",
        "            error = y[i] - prediction\n",
        "\n",
        "            # Update weights and bias if there is an error\n",
        "            if error != 0:\n",
        "                weights += learning_rate * error * X[i]  # Update weights\n",
        "                bias += learning_rate * error  # Update bias\n",
        "\n",
        "        # Calculate accuracy at the end of each epoch\n",
        "        predictions = np.dot(X, weights) + bias >= 0  # Compute all predictions\n",
        "        accuracy = np.mean(predictions == y)  # Accuracy calculation\n",
        "        accuracy_history.append(accuracy)\n",
        "        print(f\"Epoch {epoch + 1}/{epochs}, Accuracy: {accuracy * 100:.2f}%\")\n",
        "\n",
        "    return weights, bias, accuracy_history"
      ]
    },
    {
      "cell_type": "code",
      "execution_count": null,
      "metadata": {
        "id": "jkVeWvrm0b8c",
        "outputId": "9e1867e4-fbf4-4256-a531-e7f4fe4c2227"
      },
      "outputs": [
        {
          "name": "stdout",
          "output_type": "stream",
          "text": [
            "Epoch 1/100, Accuracy: 92.56%\n",
            "Epoch 2/100, Accuracy: 95.22%\n",
            "Epoch 3/100, Accuracy: 95.66%\n",
            "Epoch 4/100, Accuracy: 95.29%\n",
            "Epoch 5/100, Accuracy: 91.43%\n",
            "Epoch 6/100, Accuracy: 95.66%\n",
            "Epoch 7/100, Accuracy: 96.42%\n",
            "Epoch 8/100, Accuracy: 96.35%\n",
            "Epoch 9/100, Accuracy: 96.50%\n",
            "Epoch 10/100, Accuracy: 96.32%\n",
            "Epoch 11/100, Accuracy: 97.56%\n",
            "Epoch 12/100, Accuracy: 97.08%\n",
            "Epoch 13/100, Accuracy: 96.53%\n",
            "Epoch 14/100, Accuracy: 95.73%\n",
            "Epoch 15/100, Accuracy: 94.89%\n",
            "Epoch 16/100, Accuracy: 95.26%\n",
            "Epoch 17/100, Accuracy: 96.68%\n",
            "Epoch 18/100, Accuracy: 95.18%\n",
            "Epoch 19/100, Accuracy: 95.29%\n",
            "Epoch 20/100, Accuracy: 94.89%\n",
            "Epoch 21/100, Accuracy: 90.08%\n",
            "Epoch 22/100, Accuracy: 96.64%\n",
            "Epoch 23/100, Accuracy: 92.48%\n",
            "Epoch 24/100, Accuracy: 97.52%\n",
            "Epoch 25/100, Accuracy: 95.55%\n",
            "Epoch 26/100, Accuracy: 95.11%\n",
            "Epoch 27/100, Accuracy: 94.67%\n",
            "Epoch 28/100, Accuracy: 96.39%\n",
            "Epoch 29/100, Accuracy: 96.06%\n",
            "Epoch 30/100, Accuracy: 97.12%\n",
            "Epoch 31/100, Accuracy: 97.23%\n",
            "Epoch 32/100, Accuracy: 94.89%\n",
            "Epoch 33/100, Accuracy: 95.77%\n",
            "Epoch 34/100, Accuracy: 96.24%\n",
            "Epoch 35/100, Accuracy: 93.36%\n",
            "Epoch 36/100, Accuracy: 95.44%\n",
            "Epoch 37/100, Accuracy: 98.03%\n",
            "Epoch 38/100, Accuracy: 97.59%\n",
            "Epoch 39/100, Accuracy: 93.58%\n",
            "Epoch 40/100, Accuracy: 97.04%\n",
            "Epoch 41/100, Accuracy: 95.55%\n",
            "Epoch 42/100, Accuracy: 97.85%\n",
            "Epoch 43/100, Accuracy: 93.25%\n",
            "Epoch 44/100, Accuracy: 97.67%\n",
            "Epoch 45/100, Accuracy: 95.04%\n",
            "Epoch 46/100, Accuracy: 97.59%\n",
            "Epoch 47/100, Accuracy: 96.72%\n",
            "Epoch 48/100, Accuracy: 97.63%\n",
            "Epoch 49/100, Accuracy: 95.99%\n",
            "Epoch 50/100, Accuracy: 95.37%\n",
            "Epoch 51/100, Accuracy: 98.29%\n",
            "Epoch 52/100, Accuracy: 97.88%\n",
            "Epoch 53/100, Accuracy: 96.94%\n",
            "Epoch 54/100, Accuracy: 95.26%\n",
            "Epoch 55/100, Accuracy: 98.39%\n",
            "Epoch 56/100, Accuracy: 94.86%\n",
            "Epoch 57/100, Accuracy: 97.67%\n",
            "Epoch 58/100, Accuracy: 95.91%\n",
            "Epoch 59/100, Accuracy: 97.70%\n",
            "Epoch 60/100, Accuracy: 97.67%\n",
            "Epoch 61/100, Accuracy: 98.36%\n",
            "Epoch 62/100, Accuracy: 97.99%\n",
            "Epoch 63/100, Accuracy: 98.10%\n",
            "Epoch 64/100, Accuracy: 98.29%\n",
            "Epoch 65/100, Accuracy: 95.99%\n",
            "Epoch 66/100, Accuracy: 95.48%\n",
            "Epoch 67/100, Accuracy: 97.99%\n",
            "Epoch 68/100, Accuracy: 96.24%\n",
            "Epoch 69/100, Accuracy: 98.07%\n",
            "Epoch 70/100, Accuracy: 96.50%\n",
            "Epoch 71/100, Accuracy: 98.18%\n",
            "Epoch 72/100, Accuracy: 96.17%\n",
            "Epoch 73/100, Accuracy: 98.36%\n",
            "Epoch 74/100, Accuracy: 98.58%\n",
            "Epoch 75/100, Accuracy: 98.58%\n",
            "Epoch 76/100, Accuracy: 97.41%\n",
            "Epoch 77/100, Accuracy: 98.14%\n",
            "Epoch 78/100, Accuracy: 97.30%\n",
            "Epoch 79/100, Accuracy: 98.69%\n",
            "Epoch 80/100, Accuracy: 98.61%\n",
            "Epoch 81/100, Accuracy: 98.10%\n",
            "Epoch 82/100, Accuracy: 97.63%\n",
            "Epoch 83/100, Accuracy: 98.72%\n",
            "Epoch 84/100, Accuracy: 98.10%\n",
            "Epoch 85/100, Accuracy: 98.98%\n",
            "Epoch 86/100, Accuracy: 98.94%\n",
            "Epoch 87/100, Accuracy: 98.43%\n",
            "Epoch 88/100, Accuracy: 98.29%\n",
            "Epoch 89/100, Accuracy: 97.48%\n",
            "Epoch 90/100, Accuracy: 97.92%\n",
            "Epoch 91/100, Accuracy: 99.12%\n",
            "Epoch 92/100, Accuracy: 98.65%\n",
            "Epoch 93/100, Accuracy: 98.98%\n",
            "Epoch 94/100, Accuracy: 98.69%\n",
            "Epoch 95/100, Accuracy: 97.23%\n",
            "Epoch 96/100, Accuracy: 98.94%\n",
            "Epoch 97/100, Accuracy: 98.10%\n",
            "Epoch 98/100, Accuracy: 99.31%\n",
            "Epoch 99/100, Accuracy: 98.87%\n",
            "Epoch 100/100, Accuracy: 99.16%\n"
          ]
        }
      ],
      "source": [
        "\n",
        "# Step 4: Train the Perceptron\n",
        "weights, bias, accuracy_history = perceptron(X, y, learning_rate=0.1, epochs=100)"
      ]
    },
    {
      "cell_type": "code",
      "execution_count": null,
      "metadata": {
        "id": "yyrXY-GD0b8d"
      },
      "outputs": [],
      "source": [
        "# Step 5: Evaluate the performance\n",
        "def evaluate_model(X, y, weights, bias):\n",
        "    predictions = np.dot(X, weights) + bias >= 0  # Compute all predictions\n",
        "    accuracy = np.mean(predictions == y)  # Calculate accuracy\n",
        "    return accuracy, predictions\n"
      ]
    },
    {
      "cell_type": "code",
      "execution_count": null,
      "metadata": {
        "id": "mqYJL_ip0b8d",
        "outputId": "4e842534-b91c-49a2-d053-332d8db17f76"
      },
      "outputs": [
        {
          "name": "stdout",
          "output_type": "stream",
          "text": [
            "Final Accuracy: 99.16%\n"
          ]
        }
      ],
      "source": [
        "# Final Accuracy\n",
        "accuracy, predictions = evaluate_model(X, y, weights, bias)\n",
        "print(f\"Final Accuracy: {accuracy * 100:.2f}%\")"
      ]
    },
    {
      "cell_type": "code",
      "execution_count": null,
      "metadata": {
        "id": "0GGpOxrz0b8d"
      },
      "outputs": [],
      "source": [
        "# Step 6: Visualize misclassified images\n",
        "def visualize_misclassified(X, y, predictions, num_samples=5):\n",
        "    misclassified_indices = np.where(predictions != y)[0]  # Find misclassified samples\n",
        "    misclassified_samples = misclassified_indices[:num_samples]  # Get a few misclassified samples\n",
        "\n",
        "    fig, axes = plt.subplots(1, num_samples, figsize=(15, 5))\n",
        "    for i, idx in enumerate(misclassified_samples):\n",
        "        axes[i].imshow(X[idx].reshape(28, 28), cmap=\"gray\")\n",
        "        axes[i].set_title(f\"True: {y[idx]}, Pred: {predictions[idx]}\")\n",
        "        axes[i].axis(\"off\")\n",
        "    plt.show()\n"
      ]
    },
    {
      "cell_type": "code",
      "execution_count": null,
      "metadata": {
        "id": "YFZrSV8Y0b8e",
        "outputId": "706f090c-80f3-44a0-f270-f4dbf53cc1d1"
      },
      "outputs": [
        {
          "data": {
            "image/png": "[encoded data removed]",
            "text/plain": [
              "<Figure size 1500x500 with 5 Axes>"
            ]
          },
          "metadata": {},
          "output_type": "display_data"
        }
      ],
      "source": [
        "# Visualize the misclassified images\n",
        "visualize_misclassified(X, y, predictions, num_samples=5)"
      ]
    },
    {
      "cell_type": "markdown",
      "metadata": {
        "id": "G50rPuFy0b8f"
      },
      "source": [
        "Conclusion:\n",
        "\n",
        "We used the Perceptron learning algorithm to classify the digits 3 and 5. The final accuracy gives us an understanding of how well the model has learned to distinguish between the two digits. The misclassified images can provide insights into the areas where the model struggles."
      ]
    }
  ],
  "metadata": {
    "kernelspec": {
      "display_name": "Python 3",
      "language": "python",
      "name": "python3"
    },
    "language_info": {
      "codemirror_mode": {
        "name": "ipython",
        "version": 3
      },
      "file_extension": ".py",
      "mimetype": "text/x-python",
      "name": "python",
      "nbconvert_exporter": "python",
      "pygments_lexer": "ipython3",
      "version": "3.12.9"
    },
    "colab": {
      "provenance": [],
      "include_colab_link": true
    }
  },
  "nbformat": 4,
  "nbformat_minor": 0
}