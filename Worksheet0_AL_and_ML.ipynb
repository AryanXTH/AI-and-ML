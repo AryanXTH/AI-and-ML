{
  "nbformat": 4,
  "nbformat_minor": 0,
  "metadata": {
    "colab": {
      "provenance": [],
      "authorship_tag": "ABX9TyNUX7f50dPNhtb9KyswzPi4",
      "include_colab_link": true
    },
    "kernelspec": {
      "name": "python3",
      "display_name": "Python 3"
    },
    "language_info": {
      "name": "python"
    }
  },
  "cells": [
    {
      "cell_type": "markdown",
      "metadata": {
        "id": "view-in-github",
        "colab_type": "text"
      },
      "source": [
        "<a href=\"https://colab.research.google.com/github/AryanXTH/AI-and-ML/blob/main/Worksheet0_AL_and_ML.ipynb\" target=\"_parent\"><img src=\"https://colab.research.google.com/assets/colab-badge.svg\" alt=\"Open In Colab\"/></a>"
      ]
    },
    {
      "cell_type": "markdown",
      "source": [
        "4.1 Exercise on Functions:\n",
        "Task - 1:\n",
        "Create a Python program that converts between different units of measurement.\n",
        "• The program should:\n",
        "1. Prompt the user to choose the type of conversion (e.g., length, weight, volume).\n",
        "2. Ask the user to input the value to be converted.\n",
        "3. Perform the conversion and display the result.\n",
        "4. Handle potential errors, such as invalid input or unsupported conversion types.\n",
        "• Requirements:\n",
        "1. Functions: Define at least one function to perform the conversion.\n",
        "2. Error Handling: Use try-except blocks to handle invalid input (e.g., non-numeric values).\n",
        "3. User Input: Prompt the user to select the conversion type and input the value.\n",
        "4. Docstrings: Include a docstring in your function to describe its purpose, parameters, and\n",
        "return value.\n",
        "• Conversion Options:\n",
        "1. Length:\n",
        "– Convert meters (m) to feet (ft).\n",
        "– Convert feet (ft) to meters (m).\n",
        "2. Weight:\n",
        "– Convert kilograms (kg) to pounds (lbs).\n",
        "– Convert pounds (lbs) to kilograms (kg).\n",
        "3. Volume:\n",
        "– Convert liters (L) to gallons (gal).\n",
        "– Convert gallons (gal) to liters (L)."
      ],
      "metadata": {
        "id": "LLx-ktbUwWve"
      }
    },
    {
      "cell_type": "code",
      "execution_count": 7,
      "metadata": {
        "colab": {
          "base_uri": "https://localhost:8080/"
        },
        "id": "4S6mfSwYurjB",
        "outputId": "847d89e0-12c9-4803-f258-7a173bcfffae"
      },
      "outputs": [
        {
          "output_type": "stream",
          "name": "stdout",
          "text": [
            "choose what you want to convert(Length, weight, volunm):volumn\n",
            "Enter your value:4\n",
            "convert 'l' or 'gal':l\n",
            "4.0 in l is 1.06\n"
          ]
        }
      ],
      "source": [
        "\"\"\"Creating functions for length, weight and volumn in which conditional statment is used\"\"\"\n",
        "\n",
        "def length(value, unit):\n",
        "  if unit == 'm':\n",
        "    return value * 3.28084\n",
        "  elif unit == 'ft':\n",
        "    return value / 3.28084\n",
        "  else:\n",
        "    print(\"Invalid unit\")\n",
        "\n",
        "def weight( value, unit):\n",
        "  if unit == 'kg':\n",
        "    return value * 2.20462\n",
        "  elif unit == 'lbs':\n",
        "    return value / 2.20462\n",
        "  else:\n",
        "    print(\"Invalid unit\")\n",
        "\n",
        "def volumn (value, unit):\n",
        "  if unit == 'l':\n",
        "    return value * 0.264172\n",
        "  elif unit == 'gal':\n",
        "    return value / 0.264172\n",
        "  else:\n",
        "    print(\"Invalid unit\")\n",
        "\n",
        "\n",
        "def main():\n",
        "  user = input(\"choose what you want to convert(Length, weight, volunm):\").lower();\n",
        "  value = float(input(\"Enter your value:\"));\n",
        "\n",
        "  try:\n",
        "    if user == 'length':\n",
        "      unit = input(\"convert 'm' or 'ft':\").lower();\n",
        "      result = length(value, unit);\n",
        "      print(f\"{value} in {unit} is {result:.2f}\")\n",
        "\n",
        "    elif user == 'weight':\n",
        "      unit = input(\"convert 'kg' or 'lbs':\").lower();\n",
        "      result = weight(value, unit);\n",
        "      print(f\"{value} in {unit} is {result:.2f}\")\n",
        "    elif user == 'volumn':\n",
        "      unit = input(\"convert 'l' or 'gal':\").lower();\n",
        "      result = volumn(value, unit);\n",
        "      print(f\"{value} in {unit} is {result:.2f}\")\n",
        "  except:\n",
        "      print(\"something went wrong, pls try again\")\n",
        "\n",
        "main()"
      ]
    },
    {
      "cell_type": "markdown",
      "source": [
        "Task- 2:\n",
        " Create a Python program that performs various mathematical operations on a list of numbers.\n",
        " • The Program should:\n",
        " 1. Prompt the user to choose an operation (e.g., find the sum, average, maximum, or minimum\n",
        " of the numbers).\n",
        " 2. Ask the user to input a list of numbers (separated by spaces).\n",
        " 3. Perform the selected operation and display the result.\n",
        " 4. Handle potential errors, such as invalid input or empty lists.\n",
        " • Requirements:\n",
        " 1. Functions: Define at least one function for each operation (sum, average, maximum, mini\n",
        "mum).\n",
        " 2. Error Handling: Use try-except blocks to handle invalid input (e.g., non-numeric values or\n",
        " empty lists).\n",
        " 3. User Input: Prompt the user to select the operation and input the list of numbers.\n",
        " 4. Docstrings: Include a docstring in each function to describe its purpose, parameters, and\n",
        " return value."
      ],
      "metadata": {
        "id": "LkVo8ovxHuNN"
      }
    },
    {
      "cell_type": "code",
      "source": [],
      "metadata": {
        "id": "l2gqPNdAuwzo"
      },
      "execution_count": null,
      "outputs": []
    },
    {
      "cell_type": "markdown",
      "source": [],
      "metadata": {
        "id": "srfTIpCxIofO"
      }
    }
  ]
}