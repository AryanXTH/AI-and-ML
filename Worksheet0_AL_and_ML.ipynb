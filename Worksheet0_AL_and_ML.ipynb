{
  "nbformat": 4,
  "nbformat_minor": 0,
  "metadata": {
    "colab": {
      "provenance": [],
      "authorship_tag": "ABX9TyN6NGFRjDBocgCPGdrBI4G9",
      "include_colab_link": true
    },
    "kernelspec": {
      "name": "python3",
      "display_name": "Python 3"
    },
    "language_info": {
      "name": "python"
    }
  },
  "cells": [
    {
      "cell_type": "markdown",
      "metadata": {
        "id": "view-in-github",
        "colab_type": "text"
      },
      "source": [
        "<a href=\"https://colab.research.google.com/github/AryanXTH/AI-and-ML/blob/main/Worksheet0_AL_and_ML.ipynb\" target=\"_parent\"><img src=\"https://colab.research.google.com/assets/colab-badge.svg\" alt=\"Open In Colab\"/></a>"
      ]
    },
    {
      "cell_type": "markdown",
      "source": [
        "4.1 Exercise on Functions:\n",
        "Task - 1:\n",
        "Create a Python program that converts between different units of measurement.\n",
        "• The program should:\n",
        "1. Prompt the user to choose the type of conversion (e.g., length, weight, volume).\n",
        "2. Ask the user to input the value to be converted.\n",
        "3. Perform the conversion and display the result.\n",
        "4. Handle potential errors, such as invalid input or unsupported conversion types.\n",
        "• Requirements:\n",
        "1. Functions: Define at least one function to perform the conversion.\n",
        "2. Error Handling: Use try-except blocks to handle invalid input (e.g., non-numeric values).\n",
        "3. User Input: Prompt the user to select the conversion type and input the value.\n",
        "4. Docstrings: Include a docstring in your function to describe its purpose, parameters, and\n",
        "return value.\n",
        "• Conversion Options:\n",
        "1. Length:\n",
        "– Convert meters (m) to feet (ft).\n",
        "– Convert feet (ft) to meters (m).\n",
        "2. Weight:\n",
        "– Convert kilograms (kg) to pounds (lbs).\n",
        "– Convert pounds (lbs) to kilograms (kg).\n",
        "3. Volume:\n",
        "– Convert liters (L) to gallons (gal).\n",
        "– Convert gallons (gal) to liters (L)."
      ],
      "metadata": {
        "id": "LLx-ktbUwWve"
      }
    },
    {
      "cell_type": "code",
      "execution_count": 7,
      "metadata": {
        "colab": {
          "base_uri": "https://localhost:8080/"
        },
        "id": "4S6mfSwYurjB",
        "outputId": "847d89e0-12c9-4803-f258-7a173bcfffae"
      },
      "outputs": [
        {
          "output_type": "stream",
          "name": "stdout",
          "text": [
            "choose what you want to convert(Length, weight, volunm):volumn\n",
            "Enter your value:4\n",
            "convert 'l' or 'gal':l\n",
            "4.0 in l is 1.06\n"
          ]
        }
      ],
      "source": [
        "\"\"\"Creating functions for length, weight and volumn in which conditional statment is used\"\"\"\n",
        "\n",
        "def length(value, unit):\n",
        "  if unit == 'm':\n",
        "    return value * 3.28084\n",
        "  elif unit == 'ft':\n",
        "    return value / 3.28084\n",
        "  else:\n",
        "    print(\"Invalid unit\")\n",
        "\n",
        "def weight( value, unit):\n",
        "  if unit == 'kg':\n",
        "    return value * 2.20462\n",
        "  elif unit == 'lbs':\n",
        "    return value / 2.20462\n",
        "  else:\n",
        "    print(\"Invalid unit\")\n",
        "\n",
        "def volumn (value, unit):\n",
        "  if unit == 'l':\n",
        "    return value * 0.264172\n",
        "  elif unit == 'gal':\n",
        "    return value / 0.264172\n",
        "  else:\n",
        "    print(\"Invalid unit\")\n",
        "\n",
        "\n",
        "def main():\n",
        "  user = input(\"choose what you want to convert(Length, weight, volunm):\").lower();\n",
        "  value = float(input(\"Enter your value:\"));\n",
        "\n",
        "  try:\n",
        "    if user == 'length':\n",
        "      unit = input(\"convert 'm' or 'ft':\").lower();\n",
        "      result = length(value, unit);\n",
        "      print(f\"{value} in {unit} is {result:.2f}\")\n",
        "\n",
        "    elif user == 'weight':\n",
        "      unit = input(\"convert 'kg' or 'lbs':\").lower();\n",
        "      result = weight(value, unit);\n",
        "      print(f\"{value} in {unit} is {result:.2f}\")\n",
        "    elif user == 'volumn':\n",
        "      unit = input(\"convert 'l' or 'gal':\").lower();\n",
        "      result = volumn(value, unit);\n",
        "      print(f\"{value} in {unit} is {result:.2f}\")\n",
        "  except:\n",
        "      print(\"something went wrong, pls try again\")\n",
        "\n",
        "main()"
      ]
    },
    {
      "cell_type": "markdown",
      "source": [
        "Task- 2:\n",
        " Create a Python program that performs various mathematical operations on a list of numbers.\n",
        " • The Program should:\n",
        " 1. Prompt the user to choose an operation (e.g., find the sum, average, maximum, or minimum\n",
        " of the numbers).\n",
        " 2. Ask the user to input a list of numbers (separated by spaces).\n",
        " 3. Perform the selected operation and display the result.\n",
        " 4. Handle potential errors, such as invalid input or empty lists.\n",
        " • Requirements:\n",
        " 1. Functions: Define at least one function for each operation (sum, average, maximum, mini\n",
        "mum).\n",
        " 2. Error Handling: Use try-except blocks to handle invalid input (e.g., non-numeric values or\n",
        " empty lists).\n",
        " 3. User Input: Prompt the user to select the operation and input the list of numbers.\n",
        " 4. Docstrings: Include a docstring in each function to describe its purpose, parameters, and\n",
        " return value."
      ],
      "metadata": {
        "id": "LkVo8ovxHuNN"
      }
    },
    {
      "cell_type": "code",
      "source": [],
      "metadata": {
        "id": "LzFwfnZ8RS6s"
      },
      "execution_count": null,
      "outputs": []
    },
    {
      "cell_type": "markdown",
      "source": [
        " 4.2 Exercise on List Manipulation:\n",
        " 1. Extract Every Other Element:\n",
        " Write a Python function that extracts every other element from a list, starting from the first element.\n",
        " • Requirements:– Define a function extract\n",
        " every\n",
        " other(lst) that takes a list lst as input and returns a\n",
        " new list containing every other element from the original list.– Example: For the input [1, 2, 3, 4, 5, 6], the output should be [1, 3, 5].\n",
        " 2. Slice a Sublist:\n",
        " Write a Python function that returns a sublist from a given list, starting from a specified index and\n",
        " ending at another specified index.\n",
        " • Requirements:– Define a function get\n",
        " sublist(lst, start, end) that takes a list lst, a starting index\n",
        " start, and an ending index end as input and returns the sublist from start to end (inclusive).– Example: For the input [1, 2, 3, 4, 5, 6] with start=2 and end=4, the output should\n",
        " be [3, 4, 5].\n",
        " 3. Reverse a List Using Slicing:\n",
        " Write a Python function that reverses a list using slicing.\n",
        " • Requirements:– Define a function reverse\n",
        " slicing.\n",
        " list(lst) that takes a list lst and returns a reversed list using– Example: For the input [1, 2, 3, 4, 5], the output should be [5, 4, 3, 2, 1].\n",
        " 19\n",
        "6CS012\n",
        " Worksheet- 0\n",
        " Siman Giri\n",
        " 4. Remove the First and Last Elements:\n",
        " Write a Python function that removes the first and last elements of a list and returns the resulting\n",
        " sublist.\n",
        " • Requirements:– Defineafunction remove\n",
        " first\n",
        " last(lst) that takes a list lst and returns a sublist without\n",
        " the first and last elements using slicing.– Example: For the input [1, 2, 3, 4, 5], the output should be [2, 3, 4].\n",
        " 5. Get the First n Elements:\n",
        " Write a Python function that extracts the first n elements from a list.\n",
        " • Requirements:– Define a function get\n",
        " first\n",
        " n(lst, n) that takes a list lst and an integer n as input and\n",
        " returns the first n elements of the list using slicing.– Example: For the input [1, 2, 3, 4, 5] with n=3, the output should be [1, 2, 3].\n",
        " 6. Extract Elements from the End:\n",
        " Write a Python function that extracts the last n elements of a list using slicing.\n",
        " • Requirements:– Define a function get\n",
        " last\n",
        " n(lst, n) that takes a list lst and an integer n as input and\n",
        " returns the last n elements of the list.– Example: For the input [1, 2, 3, 4, 5] with n=2, the output should be [4, 5].\n",
        " 7. Extract Elements in Reverse Order:\n",
        " Write a Python function that extracts a list of elements in reverse order starting from the second-to-last\n",
        " element and skipping one element in between.\n",
        " • Requirements:– Define a function reverse\n",
        " skip(lst) that takes a list lst and returns a new list containing\n",
        " every second element starting from the second-to-last, moving backward.– Example: For the input [1, 2, 3, 4, 5, 6], the output should be [5, 3, 1]."
      ],
      "metadata": {
        "id": "srfTIpCxIofO"
      }
    },
    {
      "cell_type": "code",
      "source": [
        "\"\"\"Exercise 4.2, Question 1\"\"\"\n",
        "def extract_every_other(first):\n",
        "  return first[::2]\n",
        "\n",
        "input = [1,2,3,4,5,6];\n",
        "print(extract_every_other(input))\n",
        ""
      ],
      "metadata": {
        "id": "aHN0Mi8YRTiN",
        "outputId": "48f94e43-788b-4eec-e041-25aa379358be",
        "colab": {
          "base_uri": "https://localhost:8080/"
        }
      },
      "execution_count": 12,
      "outputs": [
        {
          "output_type": "stream",
          "name": "stdout",
          "text": [
            "[1, 3, 5]\n"
          ]
        }
      ]
    },
    {
      "cell_type": "code",
      "source": [
        "\"\"\"Question 2\"\"\"\n",
        "\n",
        "def get_sublist(lst, start, end):\n",
        "\n",
        "  return lst[start:end +1]\n",
        "\n",
        "input=[1,2,3,4,5,6]\n",
        "start=2;\n",
        "end=4;\n",
        "print(get_sublist(input,start,end),)"
      ],
      "metadata": {
        "id": "kq_E2o1ESPUi",
        "outputId": "db690a3f-084e-4cbc-8f5e-9f79349803e4",
        "colab": {
          "base_uri": "https://localhost:8080/"
        }
      },
      "execution_count": 16,
      "outputs": [
        {
          "output_type": "stream",
          "name": "stdout",
          "text": [
            "[3, 4, 5]\n"
          ]
        }
      ]
    },
    {
      "cell_type": "code",
      "source": [
        "\"\"\"Question 3\"\"\"\n",
        "\n"
      ],
      "metadata": {
        "id": "O_jPYzFKTsJA"
      },
      "execution_count": null,
      "outputs": []
    }
  ]
}